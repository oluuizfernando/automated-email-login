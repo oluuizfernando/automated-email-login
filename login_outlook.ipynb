{
 "cells": [
  {
   "cell_type": "markdown",
   "id": "929d2e42",
   "metadata": {},
   "source": [
    "# Bot Internet Selenium"
   ]
  },
  {
   "cell_type": "markdown",
   "metadata": {},
   "source": [
    "pip install selenium\n",
    "pip install webdriver-manager"
   ]
  },
  {
   "cell_type": "code",
   "execution_count": 67,
   "id": "229a2caf",
   "metadata": {},
   "outputs": [],
   "source": [
    "from selenium import webdriver\n",
    "from webdriver_manager.chrome import ChromeDriverManager\n",
    "from selenium.webdriver.chrome.service import Service\n",
    "\n",
    "service = Service(ChromeDriverManager().install())\n",
    "\n",
    "navigator = webdriver.Chrome(service=service)"
   ]
  },
  {
   "cell_type": "code",
   "execution_count": 68,
   "id": "7c45de91",
   "metadata": {},
   "outputs": [],
   "source": [
    "navigator.get(\"https://login.live.com/\")"
   ]
  },
  {
   "cell_type": "code",
   "execution_count": 69,
   "id": "add7308e",
   "metadata": {},
   "outputs": [],
   "source": [
    "navigator.find_element('xpath', '//*[@id=\"i0116\"]').send_keys(\"email@hotmail.com\")\n",
    "navigator.find_element('xpath', '//*[@id=\"idSIButton9\"]').click()\n",
    "time.sleep(1)\n",
    "navigator.find_element('xpath', '//*[@id=\"i0118\"]').send_keys(\"password\")\n",
    "navigator.find_element('xpath', '//*[@id=\"idSIButton9\"]').click()\n",
    "navigator.find_element('xpath', '//*[@id=\"idBtn_Back\"]').click()"
   ]
  }
 ],
 "metadata": {
  "kernelspec": {
   "display_name": "Python 3 (ipykernel)",
   "language": "python",
   "name": "python3"
  },
  "language_info": {
   "codemirror_mode": {
    "name": "ipython",
    "version": 3
   },
   "file_extension": ".py",
   "mimetype": "text/x-python",
   "name": "python",
   "nbconvert_exporter": "python",
   "pygments_lexer": "ipython3",
   "version": "3.10.9"
  }
 },
 "nbformat": 4,
 "nbformat_minor": 5
}
